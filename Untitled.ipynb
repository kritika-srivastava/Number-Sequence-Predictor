{
  "nbformat": 4,
  "nbformat_minor": 0,
  "metadata": {
    "kernelspec": {
      "name": "python3",
      "display_name": "Python 3"
    },
    "colab": {
      "name": "Untitled.ipynb",
      "provenance": [],
      "include_colab_link": true
    }
  },
  "cells": [
    {
      "cell_type": "markdown",
      "metadata": {
        "id": "view-in-github",
        "colab_type": "text"
      },
      "source": [
        "<a href=\"https://colab.research.google.com/github/kritika-srivastava/Number-Sequence-Predictor/blob/master/Untitled.ipynb\" target=\"_parent\"><img src=\"https://colab.research.google.com/assets/colab-badge.svg\" alt=\"Open In Colab\"/></a>"
      ]
    },
    {
      "cell_type": "code",
      "metadata": {
        "id": "YXf6UBCMdVSZ",
        "colab_type": "code",
        "colab": {}
      },
      "source": [
        "import pandas as pd\n",
        "import numpy as np\n",
        "import matplotlib.pyplot as plt "
      ],
      "execution_count": 0,
      "outputs": []
    },
    {
      "cell_type": "code",
      "metadata": {
        "id": "WZC6Y98PdVTn",
        "colab_type": "code",
        "colab": {
          "base_uri": "https://localhost:8080/",
          "height": 72
        },
        "outputId": "07d13f9e-a41e-4779-dacd-ab0417b4182b"
      },
      "source": [
        "y=(input(\"Enter the number sequence :\"))\n",
        "data_y=[int(x) for x in y.split()]\n",
        "data_x=list(range (1,(len(data_y)+1 )))\n",
        "print(data_x)\n",
        "print(data_y)"
      ],
      "execution_count": 32,
      "outputs": [
        {
          "output_type": "stream",
          "text": [
            "Enter the number sequence :10 20 30 40 50 60 70 80 90 100\n",
            "[1, 2, 3, 4, 5, 6, 7, 8, 9, 10]\n",
            "[10, 20, 30, 40, 50, 60, 70, 80, 90, 100]\n"
          ],
          "name": "stdout"
        }
      ]
    },
    {
      "cell_type": "code",
      "metadata": {
        "id": "7FusUdo8dVUq",
        "colab_type": "code",
        "colab": {}
      },
      "source": [
        "#Training the 2-layer model over the input\n",
        "from sklearn.model_selection import train_test_split\n",
        "train_x, valid_x, train_y, valid_y = train_test_split(data_x, data_y, test_size=0.25, random_state = 0)\n"
      ],
      "execution_count": 0,
      "outputs": []
    },
    {
      "cell_type": "code",
      "metadata": {
        "id": "dvsb9N05dVVe",
        "colab_type": "code",
        "colab": {
          "base_uri": "https://localhost:8080/",
          "height": 265
        },
        "outputId": "c82ecd29-2581-4ca0-cb8d-286d1078ee86"
      },
      "source": [
        "#Graphical representation of the Trained model \n",
        "plt.scatter(train_x, train_y, facecolor='red', edgecolor='k', alpha=0.7)\n",
        "plt.plot(train_x,train_y,color='blue')\n",
        "plt.show()"
      ],
      "execution_count": 34,
      "outputs": [
        {
          "output_type": "display_data",
          "data": {
            "image/png": "[encoded data removed]",
            "text/plain": [
              "<Figure size 432x288 with 1 Axes>"
            ]
          },
          "metadata": {
            "tags": [],
            "needs_background": "light"
          }
        }
      ]
    },
    {
      "cell_type": "code",
      "metadata": {
        "id": "WKMpwENQdVWj",
        "colab_type": "code",
        "colab": {}
      },
      "source": [
        "from scipy.interpolate import UnivariateSpline"
      ],
      "execution_count": 0,
      "outputs": []
    },
    {
      "cell_type": "code",
      "metadata": {
        "id": "Z4DhkrGndVXT",
        "colab_type": "code",
        "colab": {
          "base_uri": "https://localhost:8080/",
          "height": 283
        },
        "outputId": "096c569f-e758-4f8a-fd9f-9fb28f39732b"
      },
      "source": [
        "# To display the best fit curve as observed from the inpot data\n",
        "s = UnivariateSpline(data_x, data_y, s=5)\n",
        "xs = np.linspace(0, 15, 20)\n",
        "ys = s(xs)\n",
        "plt.plot(xs,ys,'.')\n",
        "plt.show"
      ],
      "execution_count": 36,
      "outputs": [
        {
          "output_type": "execute_result",
          "data": {
            "text/plain": [
              "<function matplotlib.pyplot.show>"
            ]
          },
          "metadata": {
            "tags": []
          },
          "execution_count": 36
        },
        {
          "output_type": "display_data",
          "data": {
            "image/png": "[encoded data removed]",
            "text/plain": [
              "<Figure size 432x288 with 1 Axes>"
            ]
          },
          "metadata": {
            "tags": [],
            "needs_background": "light"
          }
        }
      ]
    },
    {
      "cell_type": "code",
      "metadata": {
        "id": "wQvnyrnadVYB",
        "colab_type": "code",
        "colab": {
          "base_uri": "https://localhost:8080/",
          "height": 35
        },
        "outputId": "6aa5e5b5-37a4-461c-d0e5-473f57967461"
      },
      "source": [
        "#creating a model out of the training data\n",
        "from sklearn import linear_model\n",
        "model =linear_model.LinearRegression()\n",
        "\n",
        "model.fit(np.array(train_x).reshape(-1,1),np.array(train_y).reshape(-1,1))"
      ],
      "execution_count": 44,
      "outputs": [
        {
          "output_type": "execute_result",
          "data": {
            "text/plain": [
              "LinearRegression(copy_X=True, fit_intercept=True, n_jobs=None, normalize=False)"
            ]
          },
          "metadata": {
            "tags": []
          },
          "execution_count": 44
        }
      ]
    },
    {
      "cell_type": "code",
      "metadata": {
        "id": "iRml70eGjVuN",
        "colab_type": "code",
        "colab": {
          "base_uri": "https://localhost:8080/",
          "height": 127
        },
        "outputId": "bd656726-470a-4d4a-a89b-5944ef9b1428"
      },
      "source": [
        "# testing the model\n",
        "y_predict=model.predict(np.array(valid_x).reshape(-1,1))\n",
        "print(\"Actual test case values:\")\n",
        "print(valid_y)\n",
        "print(\"Test case values from model:\")\n",
        "print(y_predict)"
      ],
      "execution_count": 63,
      "outputs": [
        {
          "output_type": "stream",
          "text": [
            "Actual test case values:\n",
            "[30, 90, 50]\n",
            "Test case values from model:\n",
            "[[30.]\n",
            " [90.]\n",
            " [50.]]\n"
          ],
          "name": "stdout"
        }
      ]
    },
    {
      "cell_type": "code",
      "metadata": {
        "id": "Gjiyc0XEm32C",
        "colab_type": "code",
        "colab": {
          "base_uri": "https://localhost:8080/",
          "height": 1000
        },
        "outputId": "de534df4-a8f0-4484-b769-3a5be7476f01"
      },
      "source": [
        "#Prediction of the next terms in the sequence\n",
        "print (\"Initial Terms of sequence:\")\n",
        "print(data_y)\n",
        "k=int(input(\"Enter the number of terms you want in the sequence:\") )\n",
        "m=1\n",
        "print(\"Next terms:\")\n",
        "for i in range(k):\n",
        "  print(model.predict(np.array(data_x[-1]+m).reshape(-1,1)))\n",
        "  m=m+1\n",
        "\n",
        "\n"
      ],
      "execution_count": 89,
      "outputs": [
        {
          "output_type": "stream",
          "text": [
            "Initial Terms of sequence:\n",
            "[10, 20, 30, 40, 50, 60, 70, 80, 90, 100]\n",
            "Enter the number of terms you want in the sequence:100\n",
            "Next terms:\n",
            "[[110.]]\n",
            "[[120.]]\n",
            "[[130.]]\n",
            "[[140.]]\n",
            "[[150.]]\n",
            "[[160.]]\n",
            "[[170.]]\n",
            "[[180.]]\n",
            "[[190.]]\n",
            "[[200.]]\n",
            "[[210.]]\n",
            "[[220.]]\n",
            "[[230.]]\n",
            "[[240.]]\n",
            "[[250.]]\n",
            "[[260.]]\n",
            "[[270.]]\n",
            "[[280.]]\n",
            "[[290.]]\n",
            "[[300.]]\n",
            "[[310.]]\n",
            "[[320.]]\n",
            "[[330.]]\n",
            "[[340.]]\n",
            "[[350.]]\n",
            "[[360.]]\n",
            "[[370.]]\n",
            "[[380.]]\n",
            "[[390.]]\n",
            "[[400.]]\n",
            "[[410.]]\n",
            "[[420.]]\n",
            "[[430.]]\n",
            "[[440.]]\n",
            "[[450.]]\n",
            "[[460.]]\n",
            "[[470.]]\n",
            "[[480.]]\n",
            "[[490.]]\n",
            "[[500.]]\n",
            "[[510.]]\n",
            "[[520.]]\n",
            "[[530.]]\n",
            "[[540.]]\n",
            "[[550.]]\n",
            "[[560.]]\n",
            "[[570.]]\n",
            "[[580.]]\n",
            "[[590.]]\n",
            "[[600.]]\n",
            "[[610.]]\n",
            "[[620.]]\n",
            "[[630.]]\n",
            "[[640.]]\n",
            "[[650.]]\n",
            "[[660.]]\n",
            "[[670.]]\n",
            "[[680.]]\n",
            "[[690.]]\n",
            "[[700.]]\n",
            "[[710.]]\n",
            "[[720.]]\n",
            "[[730.]]\n",
            "[[740.]]\n",
            "[[750.]]\n",
            "[[760.]]\n",
            "[[770.]]\n",
            "[[780.]]\n",
            "[[790.]]\n",
            "[[800.]]\n",
            "[[810.]]\n",
            "[[820.]]\n",
            "[[830.]]\n",
            "[[840.]]\n",
            "[[850.]]\n",
            "[[860.]]\n",
            "[[870.]]\n",
            "[[880.]]\n",
            "[[890.]]\n",
            "[[900.]]\n",
            "[[910.]]\n",
            "[[920.]]\n",
            "[[930.]]\n",
            "[[940.]]\n",
            "[[950.]]\n",
            "[[960.]]\n",
            "[[970.]]\n",
            "[[980.]]\n",
            "[[990.]]\n",
            "[[1000.]]\n",
            "[[1010.]]\n",
            "[[1020.]]\n",
            "[[1030.]]\n",
            "[[1040.]]\n",
            "[[1050.]]\n",
            "[[1060.]]\n",
            "[[1070.]]\n",
            "[[1080.]]\n",
            "[[1090.]]\n",
            "[[1100.]]\n"
          ],
          "name": "stdout"
        }
      ]
    },
    {
      "cell_type": "code",
      "metadata": {
        "id": "LnG00lk_n2pb",
        "colab_type": "code",
        "colab": {}
      },
      "source": [
        ""
      ],
      "execution_count": 0,
      "outputs": []
    }
  ]
}